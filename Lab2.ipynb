{
 "cells": [
  {
   "cell_type": "code",
   "execution_count": 1,
   "id": "03a28d06-e278-42a0-b4fb-f2d564eb39bd",
   "metadata": {},
   "outputs": [],
   "source": [
    "# ARITHMETIC OPERATORS"
   ]
  },
  {
   "cell_type": "code",
   "execution_count": 2,
   "id": "a118fe6e-da4c-4648-b5c1-a188e84621bc",
   "metadata": {},
   "outputs": [
    {
     "name": "stdout",
     "output_type": "stream",
     "text": [
      "6\n"
     ]
    }
   ],
   "source": [
    "print(9-3)"
   ]
  },
  {
   "cell_type": "code",
   "execution_count": 3,
   "id": "09cf9df0-2c76-4080-8845-815ef43ad7e3",
   "metadata": {},
   "outputs": [
    {
     "name": "stdout",
     "output_type": "stream",
     "text": [
      "20.0\n"
     ]
    }
   ],
   "source": [
    "print(8*2.5)"
   ]
  },
  {
   "cell_type": "code",
   "execution_count": 4,
   "id": "f74ecf55-6863-4d00-a39d-960a6b7fe787",
   "metadata": {},
   "outputs": [
    {
     "name": "stdout",
     "output_type": "stream",
     "text": [
      "4.5\n"
     ]
    }
   ],
   "source": [
    "print(9/2)"
   ]
  },
  {
   "cell_type": "code",
   "execution_count": 5,
   "id": "456c332a-d04b-4fba-acf7-4eda44196a56",
   "metadata": {},
   "outputs": [
    {
     "name": "stdout",
     "output_type": "stream",
     "text": [
      "-4.5\n"
     ]
    }
   ],
   "source": [
    "print(9/-2)"
   ]
  },
  {
   "cell_type": "code",
   "execution_count": 6,
   "id": "fa17859e-7188-4f01-a2da-528f997cb30c",
   "metadata": {},
   "outputs": [
    {
     "name": "stdout",
     "output_type": "stream",
     "text": [
      "-5\n"
     ]
    }
   ],
   "source": [
    "print(9//-2)"
   ]
  },
  {
   "cell_type": "code",
   "execution_count": 7,
   "id": "0a9ce351-6588-423b-85ca-d1a781b0b358",
   "metadata": {},
   "outputs": [
    {
     "name": "stdout",
     "output_type": "stream",
     "text": [
      "1\n"
     ]
    }
   ],
   "source": [
    "print(9%2)"
   ]
  },
  {
   "cell_type": "code",
   "execution_count": 8,
   "id": "5237e5d8-8561-4374-9181-6ea201ecedd5",
   "metadata": {},
   "outputs": [
    {
     "name": "stdout",
     "output_type": "stream",
     "text": [
      "1.0\n"
     ]
    }
   ],
   "source": [
    "print(9.0%2)"
   ]
  },
  {
   "cell_type": "code",
   "execution_count": 9,
   "id": "d264d558-0a5a-4c91-b340-ff99dbca7460",
   "metadata": {},
   "outputs": [
    {
     "name": "stdout",
     "output_type": "stream",
     "text": [
      "1.0\n"
     ]
    }
   ],
   "source": [
    "print(9%2.0)"
   ]
  },
  {
   "cell_type": "code",
   "execution_count": 10,
   "id": "14d2883e-093c-480d-980c-c323e7917144",
   "metadata": {},
   "outputs": [
    {
     "name": "stdout",
     "output_type": "stream",
     "text": [
      "-1\n"
     ]
    }
   ],
   "source": [
    "print(9%-2)"
   ]
  },
  {
   "cell_type": "code",
   "execution_count": 11,
   "id": "ec087a89-233a-4c47-9aab-95e1cf485bb8",
   "metadata": {},
   "outputs": [
    {
     "name": "stdout",
     "output_type": "stream",
     "text": [
      "1\n"
     ]
    }
   ],
   "source": [
    "print(-9%2)"
   ]
  },
  {
   "cell_type": "code",
   "execution_count": 12,
   "id": "ced728ee-b38b-4110-8cf4-15b845fd4c95",
   "metadata": {},
   "outputs": [
    {
     "name": "stdout",
     "output_type": "stream",
     "text": [
      "4.5\n"
     ]
    }
   ],
   "source": [
    "print(9/2.0)"
   ]
  },
  {
   "cell_type": "code",
   "execution_count": 17,
   "id": "3bad2d27-9352-49b7-b15d-13f2386b3e46",
   "metadata": {},
   "outputs": [
    {
     "name": "stdout",
     "output_type": "stream",
     "text": [
      "19\n"
     ]
    }
   ],
   "source": [
    "print(4+3*5)"
   ]
  },
  {
   "cell_type": "code",
   "execution_count": 18,
   "id": "b24fa89f-3a0c-43d4-9f08-570a91f8606c",
   "metadata": {},
   "outputs": [
    {
     "name": "stdout",
     "output_type": "stream",
     "text": [
      "35\n"
     ]
    }
   ],
   "source": [
    "print((4+3)*5)"
   ]
  },
  {
   "cell_type": "code",
   "execution_count": 35,
   "id": "1a7af9a1-92de-4678-abd9-1eeec8204ebd",
   "metadata": {},
   "outputs": [],
   "source": [
    "# VARIABLES"
   ]
  },
  {
   "cell_type": "code",
   "execution_count": null,
   "id": "495d38ed-0241-4580-a682-7db72594a2d1",
   "metadata": {},
   "outputs": [],
   "source": [
    "\"\"\" Create a variable x that stores an integer.\n",
    "Print out x, 2x, 3x, 4x, and 5x, each separated by three dashes, like below if x=7.\n",
    "(hint: use multiplication operator and print function)"
   ]
  },
  {
   "cell_type": "code",
   "execution_count": 37,
   "id": "f1887b01-a458-44aa-9548-69dbfa379d6c",
   "metadata": {},
   "outputs": [
    {
     "name": "stdout",
     "output_type": "stream",
     "text": [
      "7---14---21---28---35\n"
     ]
    }
   ],
   "source": [
    "x = 7\n",
    "print(f\"{x}---{2*x}---{3*x}---{4*x}---{5*x}\")"
   ]
  },
  {
   "cell_type": "code",
   "execution_count": null,
   "id": "c06d7553-b7df-4f66-aa86-c7067f48fe1c",
   "metadata": {},
   "outputs": [],
   "source": [
    "''' ●\tWrite a program that asks the user to enter two numbers,\n",
    "obtains the two numbers from the user and prints the sum,\n",
    "product, difference, quotient and remainder of the two numbers.\n"
   ]
  },
  {
   "cell_type": "code",
   "execution_count": 42,
   "id": "1a2047e7-a7c2-48cc-a21c-df34fbbaf797",
   "metadata": {},
   "outputs": [
    {
     "name": "stdin",
     "output_type": "stream",
     "text": [
      "Enter the frist number 34\n",
      "Enter the second number 32\n"
     ]
    },
    {
     "name": "stdout",
     "output_type": "stream",
     "text": [
      "The sum of numbers is:- 66\n"
     ]
    }
   ],
   "source": [
    "num1 = int(input(\"Enter the frist number\"))\n",
    "num2 = int(input(\"Enter the second number\"))\n",
    "print(\"The sum of numbers is:-\",num1+num2)"
   ]
  },
  {
   "cell_type": "code",
   "execution_count": 43,
   "id": "d88f8c34-5357-4b1e-9459-3f19f5ee9d90",
   "metadata": {},
   "outputs": [
    {
     "name": "stdin",
     "output_type": "stream",
     "text": [
      "Enter the frist number 3\n",
      "Enter the second number 2\n"
     ]
    },
    {
     "name": "stdout",
     "output_type": "stream",
     "text": [
      "The product of numbers is:- 6\n"
     ]
    }
   ],
   "source": [
    "num1 = int(input(\"Enter the frist number\"))\n",
    "num2 = int(input(\"Enter the second number\"))\n",
    "print(\"The product of numbers is:-\",num1*num2)"
   ]
  },
  {
   "cell_type": "code",
   "execution_count": 44,
   "id": "e72b601f-ebc8-4d85-98cb-371bee9ca592",
   "metadata": {},
   "outputs": [
    {
     "name": "stdin",
     "output_type": "stream",
     "text": [
      "Enter the frist number 43\n",
      "Enter the second number 4\n"
     ]
    },
    {
     "name": "stdout",
     "output_type": "stream",
     "text": [
      "The sum of numbers is:- 47\n"
     ]
    }
   ],
   "source": [
    "num1 = int(input(\"Enter the frist number\"))\n",
    "num2 = int(input(\"Enter the second number\"))\n",
    "print(\"The sum of numbers is:-\",num1+num2)"
   ]
  },
  {
   "cell_type": "code",
   "execution_count": 45,
   "id": "8096be17-bb04-4106-b6e3-b4b13c4130fe",
   "metadata": {},
   "outputs": [
    {
     "name": "stdin",
     "output_type": "stream",
     "text": [
      "Enter the frist number 676\n",
      "Enter the second number 6576\n"
     ]
    },
    {
     "name": "stdout",
     "output_type": "stream",
     "text": [
      "The Difference of numbers is:- -5900\n"
     ]
    }
   ],
   "source": [
    "num1 = int(input(\"Enter the frist number\"))\n",
    "num2 = int(input(\"Enter the second number\"))\n",
    "print(\"The Difference of numbers is:-\",num1-num2)"
   ]
  },
  {
   "cell_type": "code",
   "execution_count": 47,
   "id": "3bba4cbc-ac52-46c1-8dce-b4e03f7d9ee2",
   "metadata": {},
   "outputs": [
    {
     "name": "stdin",
     "output_type": "stream",
     "text": [
      "Enter the frist number 7\n",
      "Enter the second number 5\n"
     ]
    },
    {
     "name": "stdout",
     "output_type": "stream",
     "text": [
      "The modulus of numbers is:- 2\n"
     ]
    }
   ],
   "source": [
    "num1 = int(input(\"Enter the frist number\"))\n",
    "num2 = int(input(\"Enter the second number\"))\n",
    "print(\"The modulus of numbers is:-\",num1%num2)"
   ]
  },
  {
   "cell_type": "code",
   "execution_count": null,
   "id": "6419e36c-2e09-47da-bccd-ee90535aaf52",
   "metadata": {},
   "outputs": [],
   "source": [
    "'''\tWrite a program that reads in the radius of a circle andprints the\n",
    "circle’s diameter, circumference and area. Use the constant value 3.14159 for π\n",
    "Perform each of these calculations inside the print statement()."
   ]
  },
  {
   "cell_type": "code",
   "execution_count": 52,
   "id": "04d8ea75-bda2-48ca-9b3c-590f668ce17c",
   "metadata": {},
   "outputs": [
    {
     "name": "stdin",
     "output_type": "stream",
     "text": [
      "Enter the radius:- 5\n"
     ]
    },
    {
     "name": "stdout",
     "output_type": "stream",
     "text": [
      "The diameter is:- 10.0\n",
      "The circumference is:- 31.4159\n",
      "The area is:- 78.53975\n"
     ]
    }
   ],
   "source": [
    "pi = 3.14159\n",
    "radius = float(input(\"Enter the radius:-\"))\n",
    "print(\"The diameter is:-\",2*radius)\n",
    "print(\"The circumference is:-\", 2*pi*radius)  \n",
    "print(\"The area is:-\",pi*radius*radius )\n"
   ]
  },
  {
   "cell_type": "code",
   "execution_count": 53,
   "id": "bdea7a84-4a7c-46b9-aea7-765ba3115fb2",
   "metadata": {},
   "outputs": [
    {
     "name": "stdin",
     "output_type": "stream",
     "text": [
      "Enter the radius:- 9\n"
     ]
    },
    {
     "name": "stdout",
     "output_type": "stream",
     "text": [
      "The diameter is:- 18.0\n",
      "The circumference is:- 56.54862\n",
      "The area is:- 254.46879\n"
     ]
    }
   ],
   "source": [
    "pi = 3.14159\n",
    "radius = float(input(\"Enter the radius:-\"))\n",
    "print(\"The diameter is:-\",2*radius)\n",
    "print(\"The circumference is:-\", 2*pi*radius)  \n",
    "print(\"The area is:-\",pi*radius*radius )"
   ]
  },
  {
   "cell_type": "code",
   "execution_count": 54,
   "id": "dd41758b-8fba-477c-af0d-b4ea502fa59e",
   "metadata": {},
   "outputs": [],
   "source": [
    " # A program that produces the following output using variables instead of hardcoding:"
   ]
  },
  {
   "cell_type": "code",
   "execution_count": 69,
   "id": "461d4c3a-2696-4ce5-bbd5-bea55c19fd73",
   "metadata": {},
   "outputs": [
    {
     "name": "stdout",
     "output_type": "stream",
     "text": [
      "HHHHHH\n",
      " HHHHH\n",
      "  HHHH\n",
      "   HHH\n",
      "    HH\n",
      "     H\n"
     ]
    }
   ],
   "source": [
    "print(\"HHHHHH\")\n",
    "print(\" HHHHH\")\n",
    "print(\"  HHHH\")\n",
    "print(\"   HHH\")\n",
    "print(\"    HH\")\n",
    "print(\"     H\")\n",
    "\n"
   ]
  },
  {
   "cell_type": "code",
   "execution_count": null,
   "id": "e30e8295-7ed3-4104-8cce-131fa31559ba",
   "metadata": {},
   "outputs": [],
   "source": [
    "# Decision Making using Condition Statements and Logical Operators"
   ]
  },
  {
   "cell_type": "code",
   "execution_count": 79,
   "id": "cf70e58e-94eb-4afa-9d66-16c55c691bd5",
   "metadata": {},
   "outputs": [
    {
     "name": "stdin",
     "output_type": "stream",
     "text": [
      "Enter even number:- 3\n"
     ]
    },
    {
     "name": "stdout",
     "output_type": "stream",
     "text": [
      "The number is not Even:-\n"
     ]
    }
   ],
   "source": [
    "num = int(input(\"Enter even number:-\"))\n",
    "if num%2==0:\n",
    "    print(\"The number is Even:-\")\n",
    "else:\n",
    "    print(\"The number is not Even:-\")\n",
    "    "
   ]
  },
  {
   "cell_type": "code",
   "execution_count": 92,
   "id": "2e31b28a-66d2-4e47-b1f2-765da32a8065",
   "metadata": {},
   "outputs": [
    {
     "name": "stdin",
     "output_type": "stream",
     "text": [
      "Enter your passward 1\n"
     ]
    },
    {
     "name": "stdout",
     "output_type": "stream",
     "text": [
      "Access\n"
     ]
    }
   ],
   "source": [
    "demo = int(input(\"Enter your passward\"))\n",
    "if demo==1:\n",
    "    print(\"Access\")\n",
    "else:\n",
    "    print(\"incorrect try again\")"
   ]
  },
  {
   "cell_type": "code",
   "execution_count": null,
   "id": "47f2f7e6-b1a8-4c84-b58e-5f758e6acecb",
   "metadata": {},
   "outputs": [],
   "source": []
  },
  {
   "cell_type": "code",
   "execution_count": 104,
   "id": "1141a251-e9e6-4b32-810d-a4b652af182a",
   "metadata": {},
   "outputs": [],
   "source": [
    "\n",
    "#LAB TASK\n",
    "# ARITHMETICS OPERATORS"
   ]
  },
  {
   "cell_type": "code",
   "execution_count": 95,
   "id": "5e63544e-a071-4970-8cee-c235a26233cd",
   "metadata": {},
   "outputs": [],
   "source": [
    "#Which of the following expressions results in SyntaxErrors? Identify the syntax SyntaxErrors \n",
    "#and type the reason of error along with the correct code by mentioning its sequence number.\n"
   ]
  },
  {
   "cell_type": "code",
   "execution_count": 96,
   "id": "97ef3318-4838-4107-b980-fcfbf1c0f75f",
   "metadata": {},
   "outputs": [
    {
     "data": {
      "text/plain": [
       "-48"
      ]
     },
     "execution_count": 96,
     "metadata": {},
     "output_type": "execute_result"
    }
   ],
   "source": [
    "6*-----------8"
   ]
  },
  {
   "cell_type": "code",
   "execution_count": 97,
   "id": "fbf89060-1c25-456c-884e-1c5aba49049c",
   "metadata": {},
   "outputs": [
    {
     "ename": "SyntaxError",
     "evalue": "cannot assign to literal here. Maybe you meant '==' instead of '='? (1049067674.py, line 1)",
     "output_type": "error",
     "traceback": [
      "\u001b[1;36m  Cell \u001b[1;32mIn[97], line 1\u001b[1;36m\u001b[0m\n\u001b[1;33m    8 = people\u001b[0m\n\u001b[1;37m    ^\u001b[0m\n\u001b[1;31mSyntaxError\u001b[0m\u001b[1;31m:\u001b[0m cannot assign to literal here. Maybe you meant '==' instead of '='?\n"
     ]
    }
   ],
   "source": [
    "8 = people"
   ]
  },
  {
   "cell_type": "code",
   "execution_count": null,
   "id": "90c3018a-d632-4ba3-b024-2bf7e9969bf4",
   "metadata": {},
   "outputs": [],
   "source": [
    "#SyntaxError:Due to the integer number"
   ]
  },
  {
   "cell_type": "code",
   "execution_count": 99,
   "id": "e16bc798-b7ad-4560-a85f-d10ff93c03fa",
   "metadata": {},
   "outputs": [
    {
     "data": {
      "text/plain": [
       "64"
      ]
     },
     "execution_count": 99,
     "metadata": {},
     "output_type": "execute_result"
    }
   ],
   "source": [
    "((((4 ** 3))))"
   ]
  },
  {
   "cell_type": "code",
   "execution_count": 100,
   "id": "9a5664f8-7250-412b-8ec0-c43232fa2d64",
   "metadata": {},
   "outputs": [
    {
     "data": {
      "text/plain": [
       "5"
      ]
     },
     "execution_count": 100,
     "metadata": {},
     "output_type": "execute_result"
    }
   ],
   "source": [
    "(-(-(-(-5))))"
   ]
  },
  {
   "cell_type": "code",
   "execution_count": 102,
   "id": "d158f828-697a-4def-a32b-5fc7e8528d39",
   "metadata": {},
   "outputs": [
    {
     "ename": "SyntaxError",
     "evalue": "'literal' is an illegal expression for augmented assignment (2059404682.py, line 1)",
     "output_type": "error",
     "traceback": [
      "\u001b[1;36m  Cell \u001b[1;32mIn[102], line 1\u001b[1;36m\u001b[0m\n\u001b[1;33m    4 += 7 / 2\u001b[0m\n\u001b[1;37m    ^\u001b[0m\n\u001b[1;31mSyntaxError\u001b[0m\u001b[1;31m:\u001b[0m 'literal' is an illegal expression for augmented assignment\n"
     ]
    }
   ],
   "source": [
    "4 += 7 / 2"
   ]
  },
  {
   "cell_type": "code",
   "execution_count": 103,
   "id": "90180091-1cb7-4eb1-9db8-647281f0322c",
   "metadata": {},
   "outputs": [],
   "source": [
    "#SyntaxError: variable name start with integer"
   ]
  },
  {
   "cell_type": "code",
   "execution_count": null,
   "id": "031d38cb-73f6-4f02-95e3-25d5ba75c130",
   "metadata": {},
   "outputs": [],
   "source": [
    "\n",
    "#●\tUsing only the techniques you have learned so far,write a program that calculates the square \n",
    "#and cube of the numbers from 0 to 10 and uses tabs to print the following table of values:"
   ]
  },
  {
   "cell_type": "code",
   "execution_count": 137,
   "id": "6321d309-9d99-4f59-b05f-c5497ae88807",
   "metadata": {},
   "outputs": [
    {
     "name": "stdout",
     "output_type": "stream",
     "text": [
      "one square cube\n",
      "0    0         0\n",
      "1    1         1\n",
      "2    4         8\n",
      "3    9         27\n",
      "4    16         64\n",
      "5    25         125\n",
      "6    36         216\n",
      "7    49         343\n",
      "8    64         512\n",
      "9    81         729\n",
      "10    100         1000\n"
     ]
    }
   ],
   "source": [
    "print(\"one\"   ,\"square\",  \"cube\")\n",
    "for i in range(11):\n",
    "    one=i*1\n",
    "    square=i**2\n",
    "    cube=i**3\n",
    "    print(one,\"  \", square,\"  \",cube)"
   ]
  },
  {
   "cell_type": "code",
   "execution_count": 138,
   "id": "4c3f02b1-5b4d-4152-bc69-772d933ab7b1",
   "metadata": {},
   "outputs": [],
   "source": [
    "\n",
    "#\tWrite a program that assigns values to two variables and then swap their values. \n"
   ]
  },
  {
   "cell_type": "code",
   "execution_count": 155,
   "id": "4e792b20-ada2-46d2-9499-fd24f2c72ac9",
   "metadata": {},
   "outputs": [],
   "source": [
    "a = 80\n",
    "b = 70\n"
   ]
  },
  {
   "cell_type": "code",
   "execution_count": 156,
   "id": "3a5971b3-0618-466f-a634-c03fc6c2b7c8",
   "metadata": {},
   "outputs": [
    {
     "name": "stdout",
     "output_type": "stream",
     "text": [
      "80\n"
     ]
    }
   ],
   "source": [
    "print(a)"
   ]
  },
  {
   "cell_type": "code",
   "execution_count": 157,
   "id": "2da4c172-a0c6-4287-b81d-85fd82aa0a57",
   "metadata": {},
   "outputs": [
    {
     "name": "stdout",
     "output_type": "stream",
     "text": [
      "70\n"
     ]
    }
   ],
   "source": [
    "print(b)"
   ]
  },
  {
   "cell_type": "code",
   "execution_count": 158,
   "id": "2d183e70-01bc-4da7-bd19-bdc456b4d4c6",
   "metadata": {},
   "outputs": [],
   "source": [
    "#swap their values"
   ]
  },
  {
   "cell_type": "code",
   "execution_count": 159,
   "id": "f2c4f0ce-cf0a-44fb-aeaf-6b56b1ea15bf",
   "metadata": {},
   "outputs": [
    {
     "name": "stdin",
     "output_type": "stream",
     "text": [
      "Enter the value a:- 80\n",
      "Enter the value b:- 70\n"
     ]
    },
    {
     "name": "stdout",
     "output_type": "stream",
     "text": [
      "Reversed value of a:- 70\n",
      "Reversed value of b:- 80\n"
     ]
    }
   ],
   "source": [
    "a=int(input(\"Enter the value a:-\"))\n",
    "b=int(input(\"Enter the value b:-\"))\n",
    "a=a+b\n",
    "b=a-b\n",
    "a=a-b\n",
    "print(\"Reversed value of a:-\",format(a))\n",
    "print(\"Reversed value of b:-\",format(b))"
   ]
  },
  {
   "cell_type": "code",
   "execution_count": 151,
   "id": "19893c7a-ac32-4c02-ad8a-e707fa6e054a",
   "metadata": {},
   "outputs": [
    {
     "name": "stdout",
     "output_type": "stream",
     "text": [
      "swap values\n"
     ]
    }
   ],
   "source": [
    "print(\"swap values\")"
   ]
  },
  {
   "cell_type": "code",
   "execution_count": null,
   "id": "eab306f8-4717-422e-a58b-a98384938c24",
   "metadata": {},
   "outputs": [],
   "source": [
    "\"\"\"\tWrite a program that inputs one five-digit number,generates its reverse and displays the reverse on screen.\n",
    "(Hint: Make use of the arithmetic operators modulus (%) and floor (// )"
   ]
  },
  {
   "cell_type": "code",
   "execution_count": 162,
   "id": "9c717386-9ab3-443c-9d3b-b4370a437eca",
   "metadata": {},
   "outputs": [
    {
     "name": "stdin",
     "output_type": "stream",
     "text": [
      "Enter the five digit number 45678\n"
     ]
    },
    {
     "name": "stdout",
     "output_type": "stream",
     "text": [
      "Reverse of Enter number:- 87654\n"
     ]
    }
   ],
   "source": [
    "x = int(input(\"Enter the five digit number\"))\n",
    "reverse=0\n",
    "while x>0:\n",
    "    num1 = x%10\n",
    "    reverse = reverse*10+num1\n",
    "    x=x//10\n",
    "print(\"Reverse of Enter number:-\",reverse)    "
   ]
  },
  {
   "cell_type": "code",
   "execution_count": null,
   "id": "3029cc8c-6859-4b27-90e0-e2d89eb76865",
   "metadata": {},
   "outputs": [],
   "source": [
    "# Box, an Oval, an Arrow and a Diamond as follows:"
   ]
  },
  {
   "cell_type": "code",
   "execution_count": 169,
   "id": "7a4324ed-2cb0-4f72-81e4-213271b6f69f",
   "metadata": {},
   "outputs": [],
   "source": [
    "box = '''  \n",
    "           ******     ******          *            *\n",
    "           *    *    *      *       *****        *    *  \n",
    "           *    *   *        *     *******     *        *  \n",
    "           *    *   *        *        *      *            *   \n",
    "           *    *   *        *        *        *        *    \n",
    "           *    *    *      *         *          *    *\n",
    "           ******      ****           *             * \n",
    "           '''"
   ]
  },
  {
   "cell_type": "code",
   "execution_count": 170,
   "id": "46e5e924-1998-4242-88d1-73f8ca72d4a8",
   "metadata": {},
   "outputs": [
    {
     "name": "stdout",
     "output_type": "stream",
     "text": [
      "  \n",
      "           ******     ******          *            *\n",
      "           *    *    *      *       *****        *    *  \n",
      "           *    *   *        *     *******     *        *  \n",
      "           *    *   *        *        *      *            *   \n",
      "           *    *   *        *        *        *        *    \n",
      "           *    *    *      *         *          *    *\n",
      "           ******      ****           *             * \n",
      "           \n"
     ]
    }
   ],
   "source": [
    "print(box)"
   ]
  },
  {
   "cell_type": "code",
   "execution_count": 171,
   "id": "0277aad4-e0b6-4c48-be8b-c0206aaf1ac7",
   "metadata": {},
   "outputs": [],
   "source": [
    "\n",
    "#Decision Making using Condition Statements\n"
   ]
  },
  {
   "cell_type": "code",
   "execution_count": null,
   "id": "977cc365-6675-463a-903a-ffe64d3f963f",
   "metadata": {},
   "outputs": [],
   "source": [
    "'''Write a program that reads three nonzero integers and determines andprints if they could bethe sides of a right triangle.\n",
    "(Hint : use Pythagoras theorem you learned in mathematics during FSC or matric ,try different combinations of the same integers )"
   ]
  },
  {
   "cell_type": "code",
   "execution_count": 192,
   "id": "e90267fb-d3d3-4e50-81f5-5d19977fcf6c",
   "metadata": {},
   "outputs": [
    {
     "name": "stdin",
     "output_type": "stream",
     "text": [
      "Enter the first side of triangle 0\n",
      "Enter the second side of triangle 6\n",
      "Enter the third side of triangle 0\n"
     ]
    },
    {
     "name": "stdout",
     "output_type": "stream",
     "text": [
      "error you enter nonezero value\n"
     ]
    }
   ],
   "source": [
    "num1 = int(input(\"Enter the first side of triangle\"))\n",
    "num2 = int(input(\"Enter the second side of triangle\"))\n",
    "num3 = int(input(\"Enter the third side of triangle\"))\n",
    "if num1 > 0 and num2 > 0 and num3 > 0:\n",
    "        if num1**2 + num2**2 == num3**2 or num3**2 + num2**2 == num1**2 or num1**2 + num3**2 == num2**2:\n",
    "                print(\"it is a triangle\")\n",
    "        else:\n",
    "            print(\"it is not a triangle\")\n",
    "else:\n",
    "    print(\"error you enter nonezero value\")\n",
    "\n"
   ]
  },
  {
   "cell_type": "code",
   "execution_count": 193,
   "id": "f228b461-8a22-4e19-bfd0-da8bab5b3b7c",
   "metadata": {},
   "outputs": [],
   "source": [
    "# 6th Question"
   ]
  },
  {
   "cell_type": "code",
   "execution_count": 201,
   "id": "5860906c-df94-492f-8a5b-00ccfee1ba41",
   "metadata": {},
   "outputs": [
    {
     "name": "stdin",
     "output_type": "stream",
     "text": [
      "Enter the number b/w 0.0 to 1.0 0.76\n"
     ]
    },
    {
     "name": "stdout",
     "output_type": "stream",
     "text": [
      "Grade C\n"
     ]
    }
   ],
   "source": [
    "score = float(input(\"Enter the number b/w 0.0 to 1.0\"))\n",
    "if  0.0 <= score <= 1.0:\n",
    "    if score >=0.9:\n",
    "       print(\"Grade A\")\n",
    "    elif 0.8<=score <=0.9:\n",
    "          print(\"Grade B\")\n",
    "    elif 0.7<=score <=0.8:\n",
    "          print(\"Grade C\")\n",
    "    elif 0.6 <=score <= 0.7:\n",
    "         print(\"Grade D\")\n",
    "    elif 0.6 <= score < 0.6:\n",
    "         print(\"Fail\")\n",
    "else:\n",
    "    print(\"Work Hard\")\n",
    "              \n",
    "                "
   ]
  },
  {
   "cell_type": "code",
   "execution_count": null,
   "id": "b02da111-24cb-4185-a106-d384cd712d1a",
   "metadata": {},
   "outputs": [],
   "source": []
  }
 ],
 "metadata": {
  "kernelspec": {
   "display_name": "Python 3 (ipykernel)",
   "language": "python",
   "name": "python3"
  },
  "language_info": {
   "codemirror_mode": {
    "name": "ipython",
    "version": 3
   },
   "file_extension": ".py",
   "mimetype": "text/x-python",
   "name": "python",
   "nbconvert_exporter": "python",
   "pygments_lexer": "ipython3",
   "version": "3.11.7"
  }
 },
 "nbformat": 4,
 "nbformat_minor": 5
}
