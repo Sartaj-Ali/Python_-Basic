{
 "cells": [
  {
   "cell_type": "code",
   "execution_count": 1,
   "id": "81153846-e1dd-4f93-bf9d-0b8aa8650342",
   "metadata": {},
   "outputs": [],
   "source": [
    "# HELLO WORLD PROGRAME"
   ]
  },
  {
   "cell_type": "code",
   "execution_count": 6,
   "id": "016824f2-9388-4bca-93e9-c6c5ef6dccff",
   "metadata": {},
   "outputs": [
    {
     "name": "stdout",
     "output_type": "stream",
     "text": [
      "Hello,World\n"
     ]
    }
   ],
   "source": [
    "print(\"Hello,World\")"
   ]
  },
  {
   "cell_type": "code",
   "execution_count": 3,
   "id": "24aa686a-082e-469b-94c2-229e8a3cbc46",
   "metadata": {},
   "outputs": [],
   "source": [
    "# Removing quatation arround the text "
   ]
  },
  {
   "cell_type": "code",
   "execution_count": 7,
   "id": "f2b29484-efb1-48dd-8d31-c2e0fb70e53d",
   "metadata": {},
   "outputs": [
    {
     "ename": "SyntaxError",
     "evalue": "unterminated string literal (detected at line 1) (3277709325.py, line 1)",
     "output_type": "error",
     "traceback": [
      "\u001b[1;36m  Cell \u001b[1;32mIn[7], line 1\u001b[1;36m\u001b[0m\n\u001b[1;33m    print(\"Hello,World)\u001b[0m\n\u001b[1;37m          ^\u001b[0m\n\u001b[1;31mSyntaxError\u001b[0m\u001b[1;31m:\u001b[0m unterminated string literal (detected at line 1)\n"
     ]
    }
   ],
   "source": [
    "print(\"Hello,World)"
   ]
  },
  {
   "cell_type": "code",
   "execution_count": null,
   "id": "acbb48d0-2472-49e7-97fa-eecbaf4d9dd1",
   "metadata": {},
   "outputs": [],
   "source": [
    "#SyntaxError: unterminated string literal (detected at line 1)"
   ]
  },
  {
   "cell_type": "code",
   "execution_count": 8,
   "id": "dd48ed2c-216f-421f-8e04-bcc58594ee2a",
   "metadata": {},
   "outputs": [
    {
     "ename": "NameError",
     "evalue": "name 'Hello' is not defined",
     "output_type": "error",
     "traceback": [
      "\u001b[1;31m---------------------------------------------------------------------------\u001b[0m",
      "\u001b[1;31mNameError\u001b[0m                                 Traceback (most recent call last)",
      "Cell \u001b[1;32mIn[8], line 1\u001b[0m\n\u001b[1;32m----> 1\u001b[0m \u001b[38;5;28mprint\u001b[39m(Hello,World)\n",
      "\u001b[1;31mNameError\u001b[0m: name 'Hello' is not defined"
     ]
    }
   ],
   "source": [
    "print(Hello,World)"
   ]
  },
  {
   "cell_type": "code",
   "execution_count": null,
   "id": "7a828e43-9524-413c-92da-e1ed5a7441b8",
   "metadata": {},
   "outputs": [],
   "source": [
    "#NameError: name 'Hello' is not defined"
   ]
  },
  {
   "cell_type": "code",
   "execution_count": 9,
   "id": "1fa747fb-8bbf-40a9-9f38-bb602371fe4b",
   "metadata": {},
   "outputs": [],
   "source": [
    "# PRINT COMMAND PROGRAME"
   ]
  },
  {
   "cell_type": "code",
   "execution_count": 15,
   "id": "f3c43f29-d4c5-4691-a574-35e65a4e6c92",
   "metadata": {},
   "outputs": [
    {
     "name": "stdout",
     "output_type": "stream",
     "text": [
      "   *   \n",
      "   **   \n",
      "***\n",
      "   ****   \n",
      "   *****   \n"
     ]
    }
   ],
   "source": [
    "print(\"   *   \")\n",
    "print(\"   **   \")\n",
    "print(\"***\")\n",
    "print(\"   ****   \")\n",
    "print(\"   *****   \")"
   ]
  }
 ],
 "metadata": {
  "kernelspec": {
   "display_name": "Python 3 (ipykernel)",
   "language": "python",
   "name": "python3"
  },
  "language_info": {
   "codemirror_mode": {
    "name": "ipython",
    "version": 3
   },
   "file_extension": ".py",
   "mimetype": "text/x-python",
   "name": "python",
   "nbconvert_exporter": "python",
   "pygments_lexer": "ipython3",
   "version": "3.11.7"
  }
 },
 "nbformat": 4,
 "nbformat_minor": 5
}
